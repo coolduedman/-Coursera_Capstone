{
    "cells": [
        {
            "cell_type": "markdown",
            "metadata": {},
            "source": "# Importing Pandas"
        },
        {
            "cell_type": "code",
            "execution_count": 4,
            "metadata": {},
            "outputs": [],
            "source": "import pandas as pd"
        },
        {
            "cell_type": "markdown",
            "metadata": {},
            "source": "# Reading a list of tables from the url"
        },
        {
            "cell_type": "code",
            "execution_count": 5,
            "metadata": {},
            "outputs": [],
            "source": "url = 'https://en.wikipedia.org/wiki/List_of_postal_codes_of_Canada:_M'\ndf_list = pd.read_html(url)"
        },
        {
            "cell_type": "markdown",
            "metadata": {},
            "source": "# Loading the first table from the website"
        },
        {
            "cell_type": "code",
            "execution_count": 6,
            "metadata": {},
            "outputs": [
                {
                    "data": {
                        "text/html": "<div>\n<style scoped>\n    .dataframe tbody tr th:only-of-type {\n        vertical-align: middle;\n    }\n\n    .dataframe tbody tr th {\n        vertical-align: top;\n    }\n\n    .dataframe thead th {\n        text-align: right;\n    }\n</style>\n<table border=\"1\" class=\"dataframe\">\n  <thead>\n    <tr style=\"text-align: right;\">\n      <th></th>\n      <th>Postal Code</th>\n      <th>Borough</th>\n      <th>Neighbourhood</th>\n    </tr>\n  </thead>\n  <tbody>\n    <tr>\n      <th>0</th>\n      <td>M1A</td>\n      <td>Not assigned</td>\n      <td>Not assigned</td>\n    </tr>\n    <tr>\n      <th>1</th>\n      <td>M2A</td>\n      <td>Not assigned</td>\n      <td>Not assigned</td>\n    </tr>\n    <tr>\n      <th>2</th>\n      <td>M3A</td>\n      <td>North York</td>\n      <td>Parkwoods</td>\n    </tr>\n    <tr>\n      <th>3</th>\n      <td>M4A</td>\n      <td>North York</td>\n      <td>Victoria Village</td>\n    </tr>\n    <tr>\n      <th>4</th>\n      <td>M5A</td>\n      <td>Downtown Toronto</td>\n      <td>Regent Park, Harbourfront</td>\n    </tr>\n    <tr>\n      <th>...</th>\n      <td>...</td>\n      <td>...</td>\n      <td>...</td>\n    </tr>\n    <tr>\n      <th>175</th>\n      <td>M5Z</td>\n      <td>Not assigned</td>\n      <td>Not assigned</td>\n    </tr>\n    <tr>\n      <th>176</th>\n      <td>M6Z</td>\n      <td>Not assigned</td>\n      <td>Not assigned</td>\n    </tr>\n    <tr>\n      <th>177</th>\n      <td>M7Z</td>\n      <td>Not assigned</td>\n      <td>Not assigned</td>\n    </tr>\n    <tr>\n      <th>178</th>\n      <td>M8Z</td>\n      <td>Etobicoke</td>\n      <td>Mimico NW, The Queensway West, South of Bloor,...</td>\n    </tr>\n    <tr>\n      <th>179</th>\n      <td>M9Z</td>\n      <td>Not assigned</td>\n      <td>Not assigned</td>\n    </tr>\n  </tbody>\n</table>\n<p>180 rows \u00d7 3 columns</p>\n</div>",
                        "text/plain": "    Postal Code           Borough  \\\n0           M1A      Not assigned   \n1           M2A      Not assigned   \n2           M3A        North York   \n3           M4A        North York   \n4           M5A  Downtown Toronto   \n..          ...               ...   \n175         M5Z      Not assigned   \n176         M6Z      Not assigned   \n177         M7Z      Not assigned   \n178         M8Z         Etobicoke   \n179         M9Z      Not assigned   \n\n                                         Neighbourhood  \n0                                         Not assigned  \n1                                         Not assigned  \n2                                            Parkwoods  \n3                                     Victoria Village  \n4                            Regent Park, Harbourfront  \n..                                                 ...  \n175                                       Not assigned  \n176                                       Not assigned  \n177                                       Not assigned  \n178  Mimico NW, The Queensway West, South of Bloor,...  \n179                                       Not assigned  \n\n[180 rows x 3 columns]"
                    },
                    "execution_count": 6,
                    "metadata": {},
                    "output_type": "execute_result"
                }
            ],
            "source": "PostCode_df=df_list[0]\nPostCode_df"
        },
        {
            "cell_type": "markdown",
            "metadata": {},
            "source": "## Replacing each row where there is a Not Assigned value for the neighbourhood but not for the Borough and the Postal Code column is renamed to PostalCode"
        },
        {
            "cell_type": "code",
            "execution_count": 7,
            "metadata": {},
            "outputs": [
                {
                    "data": {
                        "text/html": "<div>\n<style scoped>\n    .dataframe tbody tr th:only-of-type {\n        vertical-align: middle;\n    }\n\n    .dataframe tbody tr th {\n        vertical-align: top;\n    }\n\n    .dataframe thead th {\n        text-align: right;\n    }\n</style>\n<table border=\"1\" class=\"dataframe\">\n  <thead>\n    <tr style=\"text-align: right;\">\n      <th></th>\n      <th>PostalCode</th>\n      <th>Borough</th>\n      <th>Neighbourhood</th>\n    </tr>\n  </thead>\n  <tbody>\n    <tr>\n      <th>0</th>\n      <td>M1A</td>\n      <td>Not assigned</td>\n      <td>Not assigned</td>\n    </tr>\n    <tr>\n      <th>1</th>\n      <td>M2A</td>\n      <td>Not assigned</td>\n      <td>Not assigned</td>\n    </tr>\n    <tr>\n      <th>2</th>\n      <td>M3A</td>\n      <td>North York</td>\n      <td>Parkwoods</td>\n    </tr>\n    <tr>\n      <th>3</th>\n      <td>M4A</td>\n      <td>North York</td>\n      <td>Victoria Village</td>\n    </tr>\n    <tr>\n      <th>4</th>\n      <td>M5A</td>\n      <td>Downtown Toronto</td>\n      <td>Regent Park, Harbourfront</td>\n    </tr>\n    <tr>\n      <th>...</th>\n      <td>...</td>\n      <td>...</td>\n      <td>...</td>\n    </tr>\n    <tr>\n      <th>175</th>\n      <td>M5Z</td>\n      <td>Not assigned</td>\n      <td>Not assigned</td>\n    </tr>\n    <tr>\n      <th>176</th>\n      <td>M6Z</td>\n      <td>Not assigned</td>\n      <td>Not assigned</td>\n    </tr>\n    <tr>\n      <th>177</th>\n      <td>M7Z</td>\n      <td>Not assigned</td>\n      <td>Not assigned</td>\n    </tr>\n    <tr>\n      <th>178</th>\n      <td>M8Z</td>\n      <td>Etobicoke</td>\n      <td>Mimico NW, The Queensway West, South of Bloor,...</td>\n    </tr>\n    <tr>\n      <th>179</th>\n      <td>M9Z</td>\n      <td>Not assigned</td>\n      <td>Not assigned</td>\n    </tr>\n  </tbody>\n</table>\n<p>180 rows \u00d7 3 columns</p>\n</div>",
                        "text/plain": "    PostalCode           Borough  \\\n0          M1A      Not assigned   \n1          M2A      Not assigned   \n2          M3A        North York   \n3          M4A        North York   \n4          M5A  Downtown Toronto   \n..         ...               ...   \n175        M5Z      Not assigned   \n176        M6Z      Not assigned   \n177        M7Z      Not assigned   \n178        M8Z         Etobicoke   \n179        M9Z      Not assigned   \n\n                                         Neighbourhood  \n0                                         Not assigned  \n1                                         Not assigned  \n2                                            Parkwoods  \n3                                     Victoria Village  \n4                            Regent Park, Harbourfront  \n..                                                 ...  \n175                                       Not assigned  \n176                                       Not assigned  \n177                                       Not assigned  \n178  Mimico NW, The Queensway West, South of Bloor,...  \n179                                       Not assigned  \n\n[180 rows x 3 columns]"
                    },
                    "execution_count": 7,
                    "metadata": {},
                    "output_type": "execute_result"
                }
            ],
            "source": "#assigning borough names to Neighbourhood names where possible\nfor index,row in PostCode_df.iterrows():\n    if(row['Neighbourhood']=='Not Assigned' and row['Borough']!='Not Assigned'):\n        row['Neighbourhood']=row['Borough']\nPostCode_df.rename(columns = {'Postal Code': 'PostalCode'}, inplace = True)\nPostCode_df\n"
        },
        {
            "cell_type": "code",
            "execution_count": 8,
            "metadata": {},
            "outputs": [
                {
                    "data": {
                        "text/plain": "(180, 3)"
                    },
                    "execution_count": 8,
                    "metadata": {},
                    "output_type": "execute_result"
                }
            ],
            "source": "PostCode_df.shape"
        },
        {
            "cell_type": "markdown",
            "metadata": {},
            "source": "### Downloading the csv with the longitude and lattitude values for neighbourhoods"
        },
        {
            "cell_type": "code",
            "execution_count": 10,
            "metadata": {},
            "outputs": [
                {
                    "name": "stdout",
                    "output_type": "stream",
                    "text": "--2021-01-03 04:22:30--  https://cocl.us/Geospatial_data\nResolving cocl.us (cocl.us)... 169.63.96.176, 169.63.96.194\nConnecting to cocl.us (cocl.us)|169.63.96.176|:443... connected.\nHTTP request sent, awaiting response... 301 Moved Permanently\nLocation: https://ibm.box.com/shared/static/9afzr83pps4pwf2smjjcf1y5mvgb18rr.csv [following]\n--2021-01-03 04:22:31--  https://ibm.box.com/shared/static/9afzr83pps4pwf2smjjcf1y5mvgb18rr.csv\nResolving ibm.box.com (ibm.box.com)... 103.116.4.197\nConnecting to ibm.box.com (ibm.box.com)|103.116.4.197|:443... connected.\nHTTP request sent, awaiting response... 301 Moved Permanently\nLocation: /public/static/9afzr83pps4pwf2smjjcf1y5mvgb18rr.csv [following]\n--2021-01-03 04:22:32--  https://ibm.box.com/public/static/9afzr83pps4pwf2smjjcf1y5mvgb18rr.csv\nReusing existing connection to ibm.box.com:443.\nHTTP request sent, awaiting response... 301 Moved Permanently\nLocation: https://ibm.ent.box.com/public/static/9afzr83pps4pwf2smjjcf1y5mvgb18rr.csv [following]\n--2021-01-03 04:22:32--  https://ibm.ent.box.com/public/static/9afzr83pps4pwf2smjjcf1y5mvgb18rr.csv\nResolving ibm.ent.box.com (ibm.ent.box.com)... 103.116.4.201\nConnecting to ibm.ent.box.com (ibm.ent.box.com)|103.116.4.201|:443... connected.\nHTTP request sent, awaiting response... 302 Found\nLocation: https://public.boxcloud.com/d/1/b1!bDOMRZXV3zaJRWCGiYZmiBkRptOn0gWS6JJOe0V7sCkd4r_4tLbpWkoBR16e3GZfwTCpojJ0L1JUHbgW7Njk3X1Q1_y2eawNarZ8mIJNQHRUfpYFeHglYK_TmYiMQW3AivbkEu14OgeyFTimZaQTqOQJ7pfFH_VjWy1v9EClDHgna5lN7QPp6ImBVqT94pA5EwVG7YUjk6bGQcpP3aQlW9M7YgIGMX8VrHhPzKbrQ8yRrh8Phv-xbEMIOzm2uWVq5qQDUpBa2rOEvbEfo_MG8eAH2GDmf0Q5E8chR1OEqNWImTzP0V5iHkBZnr7YnnfVQaJeflnIWh7I_H3VNvwS1FwnxNsAuyRdoYMZakR-u_CF-zsRR7-TxnNsAmdED_l6tciO0yv3XxKOagHRKreaoI8MOLRnksxoDBLSvTv_hXxrharq8K2rD6a8ncj33gJi--rhn9VNRlH8kKsvV7EaxcULy3nwyA5n7jpCfvyTmHFFIuqWKstIxj0pHy6jSDTtjGhb00Idja_KfWXhp35i6JtZcm-Hl6RIz7ZmOrJ9YHu8m759FqBWFi8kKp7m_VdmNixBJ12noXUal3th2mWD7WhBkhWUL0DkD9S0Pi1hO8Sf-PDJ8WNOCNfUgRQt79iXVPOJCZKTIm73eo5aVE4tNFDRqLdtQ724Mj-knIZcgqlHNUp-fEasQj-6b4Xe1yBGqeP7rJt-weuCa6LxfZc93z-7yCmopyNtGRjyD_KFBjpq5SUFpmeIFFhX4P4eOnmoZLSgbD7dUj-1hmA1NdOuDYfIYSKsGp2kG7aTeHHhVLme9HdmkQi48ASxkz6F-GKU6Oo02GuXXzxzOHRk9gmExxXan8wqrTH6I-ErsGtlHLlDSvEXu5XJuihzNXqSGSnAxJOZBrHvfQC8zUOvHLP4yvSbqhhL9mgL0tpy2zvW1V9EBj7noQa6WZwZgpjKAK8d49TM601Ki41MDPXwTnim3LckL9QXh7s6zEhg3SbmwaWx8jQqj_24Cs9H90dxlZ0TmBYA0lA5avkXDSQTEfaNa_VZ0rVx0oZyzukC7UfNoJ4xL-mIQ4FVv1XLxfmJ_buSFL4LB_-FCAoBZcVbuJVGdw3KkBGfDUp3ujOa9nteO93WZLTf3I4G5TwSxneIr_LK_JYdkLvztMWA03Y4Lr3wib1iUpwTjiww5l7ih8Rq0cC7Y8Zyj7ELZRk3dL0Z4mTmtSYwwBWt4KKConM8oRM6Q9GTjLzRdyksCiaw0_x4Wgai8wGpnEKhG6IthVfWnDixPJJzfOVFVJxE994eAgLS9VKFhcuqYfS-CwqVTXH5sKeF9atMn7vuTLK_txmxcYg_c0n6MWsnIDqTIcgweRFLTX6HDS16fEcUErtZrHC-XhxaRyr6fAlmgl0jsaJegRDvlKf0VxlLuWXwbAvFPfdeIcVpXR2DdGTRV_uxy8G-IEkTDJTTItJbxsYzFYe4kGm_D15e7L6DiEHq7qn9/download [following]\n--2021-01-03 04:22:32--  https://public.boxcloud.com/d/1/b1!bDOMRZXV3zaJRWCGiYZmiBkRptOn0gWS6JJOe0V7sCkd4r_4tLbpWkoBR16e3GZfwTCpojJ0L1JUHbgW7Njk3X1Q1_y2eawNarZ8mIJNQHRUfpYFeHglYK_TmYiMQW3AivbkEu14OgeyFTimZaQTqOQJ7pfFH_VjWy1v9EClDHgna5lN7QPp6ImBVqT94pA5EwVG7YUjk6bGQcpP3aQlW9M7YgIGMX8VrHhPzKbrQ8yRrh8Phv-xbEMIOzm2uWVq5qQDUpBa2rOEvbEfo_MG8eAH2GDmf0Q5E8chR1OEqNWImTzP0V5iHkBZnr7YnnfVQaJeflnIWh7I_H3VNvwS1FwnxNsAuyRdoYMZakR-u_CF-zsRR7-TxnNsAmdED_l6tciO0yv3XxKOagHRKreaoI8MOLRnksxoDBLSvTv_hXxrharq8K2rD6a8ncj33gJi--rhn9VNRlH8kKsvV7EaxcULy3nwyA5n7jpCfvyTmHFFIuqWKstIxj0pHy6jSDTtjGhb00Idja_KfWXhp35i6JtZcm-Hl6RIz7ZmOrJ9YHu8m759FqBWFi8kKp7m_VdmNixBJ12noXUal3th2mWD7WhBkhWUL0DkD9S0Pi1hO8Sf-PDJ8WNOCNfUgRQt79iXVPOJCZKTIm73eo5aVE4tNFDRqLdtQ724Mj-knIZcgqlHNUp-fEasQj-6b4Xe1yBGqeP7rJt-weuCa6LxfZc93z-7yCmopyNtGRjyD_KFBjpq5SUFpmeIFFhX4P4eOnmoZLSgbD7dUj-1hmA1NdOuDYfIYSKsGp2kG7aTeHHhVLme9HdmkQi48ASxkz6F-GKU6Oo02GuXXzxzOHRk9gmExxXan8wqrTH6I-ErsGtlHLlDSvEXu5XJuihzNXqSGSnAxJOZBrHvfQC8zUOvHLP4yvSbqhhL9mgL0tpy2zvW1V9EBj7noQa6WZwZgpjKAK8d49TM601Ki41MDPXwTnim3LckL9QXh7s6zEhg3SbmwaWx8jQqj_24Cs9H90dxlZ0TmBYA0lA5avkXDSQTEfaNa_VZ0rVx0oZyzukC7UfNoJ4xL-mIQ4FVv1XLxfmJ_buSFL4LB_-FCAoBZcVbuJVGdw3KkBGfDUp3ujOa9nteO93WZLTf3I4G5TwSxneIr_LK_JYdkLvztMWA03Y4Lr3wib1iUpwTjiww5l7ih8Rq0cC7Y8Zyj7ELZRk3dL0Z4mTmtSYwwBWt4KKConM8oRM6Q9GTjLzRdyksCiaw0_x4Wgai8wGpnEKhG6IthVfWnDixPJJzfOVFVJxE994eAgLS9VKFhcuqYfS-CwqVTXH5sKeF9atMn7vuTLK_txmxcYg_c0n6MWsnIDqTIcgweRFLTX6HDS16fEcUErtZrHC-XhxaRyr6fAlmgl0jsaJegRDvlKf0VxlLuWXwbAvFPfdeIcVpXR2DdGTRV_uxy8G-IEkTDJTTItJbxsYzFYe4kGm_D15e7L6DiEHq7qn9/download\nResolving public.boxcloud.com (public.boxcloud.com)... 103.116.4.200\nConnecting to public.boxcloud.com (public.boxcloud.com)|103.116.4.200|:443... connected.\nHTTP request sent, awaiting response... 200 OK\nLength: 2891 (2.8K) [text/csv]\nSaving to: \u2018Geospatial_data\u2019\n\nGeospatial_data     100%[===================>]   2.82K  --.-KB/s    in 0s      \n\n2021-01-03 04:22:33 (35.3 MB/s) - \u2018Geospatial_data\u2019 saved [2891/2891]\n\n"
                }
            ],
            "source": "!wget https://cocl.us/Geospatial_data"
        },
        {
            "cell_type": "markdown",
            "metadata": {},
            "source": "### Creating a new dataframe from the csv"
        },
        {
            "cell_type": "code",
            "execution_count": 11,
            "metadata": {},
            "outputs": [],
            "source": "GSPData=pd.read_csv('Geospatial_data')"
        },
        {
            "cell_type": "markdown",
            "metadata": {},
            "source": "### Merging the two dataframes on the value of PostalCode"
        },
        {
            "cell_type": "code",
            "execution_count": 20,
            "metadata": {},
            "outputs": [
                {
                    "data": {
                        "text/html": "<div>\n<style scoped>\n    .dataframe tbody tr th:only-of-type {\n        vertical-align: middle;\n    }\n\n    .dataframe tbody tr th {\n        vertical-align: top;\n    }\n\n    .dataframe thead th {\n        text-align: right;\n    }\n</style>\n<table border=\"1\" class=\"dataframe\">\n  <thead>\n    <tr style=\"text-align: right;\">\n      <th></th>\n      <th>PostalCode</th>\n      <th>Borough</th>\n      <th>Neighbourhood</th>\n      <th>Latitude_x</th>\n      <th>Longitude_x</th>\n      <th>Latitude_y</th>\n      <th>Longitude_y</th>\n    </tr>\n  </thead>\n  <tbody>\n    <tr>\n      <th>0</th>\n      <td>M1A</td>\n      <td>Not assigned</td>\n      <td>Not assigned</td>\n      <td>NaN</td>\n      <td>NaN</td>\n      <td>NaN</td>\n      <td>NaN</td>\n    </tr>\n    <tr>\n      <th>1</th>\n      <td>M2A</td>\n      <td>Not assigned</td>\n      <td>Not assigned</td>\n      <td>NaN</td>\n      <td>NaN</td>\n      <td>NaN</td>\n      <td>NaN</td>\n    </tr>\n    <tr>\n      <th>2</th>\n      <td>M3A</td>\n      <td>North York</td>\n      <td>Parkwoods</td>\n      <td>43.753259</td>\n      <td>-79.329656</td>\n      <td>43.753259</td>\n      <td>-79.329656</td>\n    </tr>\n    <tr>\n      <th>3</th>\n      <td>M4A</td>\n      <td>North York</td>\n      <td>Victoria Village</td>\n      <td>43.725882</td>\n      <td>-79.315572</td>\n      <td>43.725882</td>\n      <td>-79.315572</td>\n    </tr>\n    <tr>\n      <th>4</th>\n      <td>M5A</td>\n      <td>Downtown Toronto</td>\n      <td>Regent Park, Harbourfront</td>\n      <td>43.654260</td>\n      <td>-79.360636</td>\n      <td>43.654260</td>\n      <td>-79.360636</td>\n    </tr>\n    <tr>\n      <th>5</th>\n      <td>M6A</td>\n      <td>North York</td>\n      <td>Lawrence Manor, Lawrence Heights</td>\n      <td>43.718518</td>\n      <td>-79.464763</td>\n      <td>43.718518</td>\n      <td>-79.464763</td>\n    </tr>\n    <tr>\n      <th>6</th>\n      <td>M7A</td>\n      <td>Downtown Toronto</td>\n      <td>Queen's Park, Ontario Provincial Government</td>\n      <td>43.662301</td>\n      <td>-79.389494</td>\n      <td>43.662301</td>\n      <td>-79.389494</td>\n    </tr>\n    <tr>\n      <th>7</th>\n      <td>M8A</td>\n      <td>Not assigned</td>\n      <td>Not assigned</td>\n      <td>NaN</td>\n      <td>NaN</td>\n      <td>NaN</td>\n      <td>NaN</td>\n    </tr>\n    <tr>\n      <th>8</th>\n      <td>M9A</td>\n      <td>Etobicoke</td>\n      <td>Islington Avenue, Humber Valley Village</td>\n      <td>43.667856</td>\n      <td>-79.532242</td>\n      <td>43.667856</td>\n      <td>-79.532242</td>\n    </tr>\n    <tr>\n      <th>9</th>\n      <td>M1B</td>\n      <td>Scarborough</td>\n      <td>Malvern, Rouge</td>\n      <td>43.806686</td>\n      <td>-79.194353</td>\n      <td>43.806686</td>\n      <td>-79.194353</td>\n    </tr>\n    <tr>\n      <th>10</th>\n      <td>M2B</td>\n      <td>Not assigned</td>\n      <td>Not assigned</td>\n      <td>NaN</td>\n      <td>NaN</td>\n      <td>NaN</td>\n      <td>NaN</td>\n    </tr>\n    <tr>\n      <th>11</th>\n      <td>M3B</td>\n      <td>North York</td>\n      <td>Don Mills</td>\n      <td>43.745906</td>\n      <td>-79.352188</td>\n      <td>43.745906</td>\n      <td>-79.352188</td>\n    </tr>\n  </tbody>\n</table>\n</div>",
                        "text/plain": "   PostalCode           Borough                                Neighbourhood  \\\n0         M1A      Not assigned                                 Not assigned   \n1         M2A      Not assigned                                 Not assigned   \n2         M3A        North York                                    Parkwoods   \n3         M4A        North York                             Victoria Village   \n4         M5A  Downtown Toronto                    Regent Park, Harbourfront   \n5         M6A        North York             Lawrence Manor, Lawrence Heights   \n6         M7A  Downtown Toronto  Queen's Park, Ontario Provincial Government   \n7         M8A      Not assigned                                 Not assigned   \n8         M9A         Etobicoke      Islington Avenue, Humber Valley Village   \n9         M1B       Scarborough                               Malvern, Rouge   \n10        M2B      Not assigned                                 Not assigned   \n11        M3B        North York                                    Don Mills   \n\n    Latitude_x  Longitude_x  Latitude_y  Longitude_y  \n0          NaN          NaN         NaN          NaN  \n1          NaN          NaN         NaN          NaN  \n2    43.753259   -79.329656   43.753259   -79.329656  \n3    43.725882   -79.315572   43.725882   -79.315572  \n4    43.654260   -79.360636   43.654260   -79.360636  \n5    43.718518   -79.464763   43.718518   -79.464763  \n6    43.662301   -79.389494   43.662301   -79.389494  \n7          NaN          NaN         NaN          NaN  \n8    43.667856   -79.532242   43.667856   -79.532242  \n9    43.806686   -79.194353   43.806686   -79.194353  \n10         NaN          NaN         NaN          NaN  \n11   43.745906   -79.352188   43.745906   -79.352188  "
                    },
                    "execution_count": 20,
                    "metadata": {},
                    "output_type": "execute_result"
                }
            ],
            "source": "GSPData.rename(columns = {'Postal Code': 'PostalCode'}, inplace = True)\nPostCode_df=PostCode_df.merge(GSPData, on=['PostalCode'], how='left')\nPostCode_df.head(12)"
        }
    ],
    "metadata": {
        "kernelspec": {
            "display_name": "Python 3.7",
            "language": "python",
            "name": "python3"
        },
        "language_info": {
            "codemirror_mode": {
                "name": "ipython",
                "version": 3
            },
            "file_extension": ".py",
            "mimetype": "text/x-python",
            "name": "python",
            "nbconvert_exporter": "python",
            "pygments_lexer": "ipython3",
            "version": "3.7.9"
        }
    },
    "nbformat": 4,
    "nbformat_minor": 1
}